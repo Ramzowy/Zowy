{
  "nbformat": 4,
  "nbformat_minor": 0,
  "metadata": {
    "colab": {
      "provenance": [],
      "authorship_tag": "ABX9TyOUYp8Q1O3eS3Cytbuack8u",
      "include_colab_link": true
    },
    "kernelspec": {
      "name": "python3",
      "display_name": "Python 3"
    },
    "language_info": {
      "name": "python"
    }
  },
  "cells": [
    {
      "cell_type": "markdown",
      "metadata": {
        "id": "view-in-github",
        "colab_type": "text"
      },
      "source": [
        "<a href=\"https://colab.research.google.com/github/Ramzowy/Zowy/blob/main/Cyberkey.ipynb\" target=\"_parent\"><img src=\"https://colab.research.google.com/assets/colab-badge.svg\" alt=\"Open In Colab\"/></a>"
      ]
    },
    {
      "cell_type": "code",
      "execution_count": null,
      "metadata": {
        "id": "EceoSFMsRwf-"
      },
      "outputs": [],
      "source": [
        "##pick two large prime numbers\n",
        "#p=3 and q=11\n",
        "## calculate n=p.q=33\n",
        "##calculate fi(n)=(p-1)(q-1)=2.10 = 20\n",
        "##pick another prime number that is co-prime to fi(n)\n",
        "#7,11,13,17,19 lets pick e = 7\n",
        "#PUBLIC KEY (e,(n)) = (7,33)"
      ]
    },
    {
      "cell_type": "code",
      "source": [
        "#send a letter 'b'\n",
        "#encode letter be so that it is convereted to a number\n",
        "encoded_b = ord('b')\n",
        "encoded_b"
      ],
      "metadata": {
        "colab": {
          "base_uri": "https://localhost:8080/"
        },
        "id": "3mlQHQO3SqYA",
        "outputId": "b562e610-dff8-49a7-f177-b95491265f64"
      },
      "execution_count": 7,
      "outputs": [
        {
          "output_type": "execute_result",
          "data": {
            "text/plain": [
              "98"
            ]
          },
          "metadata": {},
          "execution_count": 7
        }
      ]
    },
    {
      "cell_type": "code",
      "source": [
        "#cyphered text=plain_text^e mod(n)\n",
        "cyphered_text_1 = (9**7)%33\n",
        "cyphered_text_1"
      ],
      "metadata": {
        "colab": {
          "base_uri": "https://localhost:8080/"
        },
        "id": "ims8mbCfTPvG",
        "outputId": "19ffc280-e1a0-4a9a-c81e-d2021e092199"
      },
      "execution_count": 8,
      "outputs": [
        {
          "output_type": "execute_result",
          "data": {
            "text/plain": [
              "15"
            ]
          },
          "metadata": {},
          "execution_count": 8
        }
      ]
    },
    {
      "cell_type": "code",
      "source": [
        "#cyphered_text = plain_text^e mod(n)\n",
        "cyphered_text_2 = (8**7)%33\n",
        "cyphered_text_2"
      ],
      "metadata": {
        "colab": {
          "base_uri": "https://localhost:8080/"
        },
        "id": "yCdv0Zu3TyxS",
        "outputId": "ed924633-a901-4bbd-dd88-3d9a68976b07"
      },
      "execution_count": 11,
      "outputs": [
        {
          "output_type": "execute_result",
          "data": {
            "text/plain": [
              "2"
            ]
          },
          "metadata": {},
          "execution_count": 11
        }
      ]
    },
    {
      "cell_type": "code",
      "source": [
        "##d*e mod(fi(n))=1\n",
        "##d*7 mod(20)=1\n",
        "##d=3\n",
        "##PRIVATE KEY (d,n)\n",
        "##PRIVATE KEY (3,33)"
      ],
      "metadata": {
        "id": "nykbNo6cUQ0e"
      },
      "execution_count": null,
      "outputs": []
    },
    {
      "cell_type": "code",
      "source": [
        "##start decryption\n",
        "##plain_text_1 = cypher^d mod (n)\n",
        "plain = (15**3)%33\n",
        "plain"
      ],
      "metadata": {
        "colab": {
          "base_uri": "https://localhost:8080/"
        },
        "id": "jMmKhiVTUjeQ",
        "outputId": "913747d9-1352-441a-9227-08e044561d4d"
      },
      "execution_count": 15,
      "outputs": [
        {
          "output_type": "execute_result",
          "data": {
            "text/plain": [
              "9"
            ]
          },
          "metadata": {},
          "execution_count": 15
        }
      ]
    },
    {
      "cell_type": "code",
      "source": [
        "##start decryption\n",
        "##plain_text_2 = cypher^d mod (n)\n",
        "plain = (2**3)%33\n",
        "plain"
      ],
      "metadata": {
        "colab": {
          "base_uri": "https://localhost:8080/"
        },
        "id": "8QzsDIGRYEKd",
        "outputId": "5cb022f1-98c4-4a21-b48e-db87894f15e5"
      },
      "execution_count": 16,
      "outputs": [
        {
          "output_type": "execute_result",
          "data": {
            "text/plain": [
              "8"
            ]
          },
          "metadata": {},
          "execution_count": 16
        }
      ]
    },
    {
      "cell_type": "code",
      "source": [
        "chr(98)"
      ],
      "metadata": {
        "colab": {
          "base_uri": "https://localhost:8080/",
          "height": 35
        },
        "id": "l4WpGAT7etZq",
        "outputId": "053fdef0-ec65-4fbc-f8cb-6ade3c1a0120"
      },
      "execution_count": 17,
      "outputs": [
        {
          "output_type": "execute_result",
          "data": {
            "text/plain": [
              "'b'"
            ],
            "application/vnd.google.colaboratory.intrinsic+json": {
              "type": "string"
            }
          },
          "metadata": {},
          "execution_count": 17
        }
      ]
    }
  ]
}